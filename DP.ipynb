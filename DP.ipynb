{
 "cells": [
  {
   "cell_type": "markdown",
   "metadata": {},
   "source": [
    "# Dynamic Programming (DP)"
   ]
  },
  {
   "cell_type": "markdown",
   "metadata": {},
   "source": [
    "## Interval Scheduling\n",
    "Given $n$ intervals, find a list of the most number of disjoint intervals."
   ]
  },
  {
   "cell_type": "code",
   "execution_count": 87,
   "metadata": {
    "collapsed": true
   },
   "outputs": [],
   "source": [
    "import math\n",
    "import pylab\n",
    "%matplotlib inline\n",
    "import numpy as np\n",
    "import networkx as nx"
   ]
  },
  {
   "cell_type": "code",
   "execution_count": 88,
   "metadata": {
    "collapsed": true
   },
   "outputs": [],
   "source": [
    "def draw_with_weights(g, weightcol='weight', scale=1, pos=None): \n",
    "    edgelist = [(u,v, d[weightcol]) for (u, v, d) in g.edges(data=True)] \n",
    "    if pos is None:\n",
    "        pos = nx.spring_layout(g) # positions for all nodes \n",
    "        \n",
    "    nx.draw_networkx_nodes(g, pos, node_size=700)\n",
    "    nx.draw_networkx_edges(g, pos, edgelist=[(u,v) for (u, v, w) in edgelist],\n",
    "                        width=[w * scale + 0.1 for (u, v, w) in edgelist], arrows=True)\n",
    "    nx.draw_networkx_labels(g, pos, font_size=20, font_family='sans-serif')\n",
    "    pylab.axis('off')"
   ]
  },
  {
   "cell_type": "code",
   "execution_count": 89,
   "metadata": {
    "collapsed": true
   },
   "outputs": [],
   "source": [
    "def longest_path(g):\n",
    "    all_nodes = list(g.nodes())\n",
    "    all_nodes.remove('s')\n",
    "    all_nodes.remove('t')\n",
    "    ordered_nodes = ['s'] + sorted(all_nodes) + ['t']\n",
    "    \n",
    "    distance = {}\n",
    "    back = {}\n",
    "    \n",
    "    for node in ordered_nodes:\n",
    "        distance[node] = 0\n",
    "        back[node] = ['s', 't']\n",
    "    \n",
    "    all_edges = g.edges(data=True)        \n",
    "    for node in all_nodes:\n",
    "        # G.successors()\n",
    "        valid_edges = [edge for edge in all_edges if edge[1] == node]\n",
    "        \n",
    "        for e in valid_edges:\n",
    "            dis = e[2]['weight'] + distance[e[0]]\n",
    "            if dis > distance[node]:\n",
    "                distance[node] = dis\n",
    "                back[node] = back[e[0]][:-1] + [node] + [back[e[0]][-1]]\n",
    "        \n",
    "    longest = -1\n",
    "    longest_node = None\n",
    "    for n, dis in distance.items():\n",
    "        if dis > longest:\n",
    "            longest = dis\n",
    "            longest_node = n\n",
    "    \n",
    "    return (longest, back[longest_node])"
   ]
  },
  {
   "cell_type": "code",
   "execution_count": 90,
   "metadata": {
    "collapsed": true
   },
   "outputs": [],
   "source": [
    "# create a random set of intervals\n",
    "def rand_intervals(n):\n",
    "    tmp1 = np.random.rand(n) * n\n",
    "    tmp2 = np.random.rand(n) * n\n",
    "    \n",
    "    return sorted([(min(i, j), max(i, j)) for i, j in zip(tmp1, tmp2)], key=lambda x: x[1])"
   ]
  },
  {
   "cell_type": "code",
   "execution_count": 91,
   "metadata": {
    "collapsed": true
   },
   "outputs": [],
   "source": [
    "# solve the problem with a greedy algorithm\n",
    "def greedy_interval_schedule(intervals):\n",
    "    # sort the intervals by finish time (O(NlogN))\n",
    "    intervals = sorted(intervals, key=lambda x: x[1])\n",
    "    \n",
    "    s = []\n",
    "    t = -math.inf\n",
    "    for i in intervals:\n",
    "        if i[0] >= t:\n",
    "            t = i[1]\n",
    "            s.append(i)\n",
    "    return s"
   ]
  },
  {
   "cell_type": "code",
   "execution_count": 92,
   "metadata": {},
   "outputs": [],
   "source": [
    "# convert the problem into a DAG for DP approach\n",
    "# assume that intervals is sorted.\n",
    "def interval_graph(intervals):\n",
    "    # sort the intervals by finish time (O(NlogN))\n",
    "    intervals = sorted(intervals, key=lambda x: x[1])\n",
    "    \n",
    "    g = nx.DiGraph()\n",
    "    g.add_node('s')\n",
    "    g.add_nodes_from(range(len(intervals)))\n",
    "    g.add_node('t')\n",
    "    \n",
    "    for i in range(len(intervals)):\n",
    "        # all nodes can be the first node\n",
    "        g.add_edge('s', i, weight=1)\n",
    "        g.add_edge(i, 't', weight=0)\n",
    "        \n",
    "        # if the start time of the next node is after the finish time\n",
    "        # of this node, then connect the two nodes.\n",
    "        for j in range(i + 1, len(intervals)):\n",
    "            if intervals[j][0] >= intervals[i][1]:\n",
    "                g.add_edge(i, j, weight=1)\n",
    "    return g"
   ]
  },
  {
   "cell_type": "code",
   "execution_count": 94,
   "metadata": {},
   "outputs": [
    {
     "name": "stdout",
     "output_type": "stream",
     "text": [
      "Intervals:\n",
      "(0.46989961771900735, 1.5266117480602237)\n",
      "(1.2871903842406185, 2.3807968870004159)\n",
      "(2.3495802751244321, 4.096396828507201)\n",
      "(4.8965607533590347, 5.0531515053283762)\n",
      "(4.7485943680385292, 7.8801102554076197)\n",
      "(5.7656077232617617, 7.8861807886334754)\n",
      "(5.8812937070435867, 8.3011349090658229)\n",
      "(0.90209290085006999, 9.287381152242796)\n",
      "(1.2025359028725602, 9.7273325080476916)\n",
      "(0.81199761878124388, 9.7782429455479534)\n",
      "Greedy Scheduled:\n",
      "(0.46989961771900735, 1.5266117480602237)\n",
      "(2.3495802751244321, 4.096396828507201)\n",
      "(4.8965607533590347, 5.0531515053283762)\n",
      "(5.7656077232617617, 7.8861807886334754)\n",
      "DP Scheduled:\n",
      "(0.46989961771900735, 1.5266117480602237)\n",
      "(2.3495802751244321, 4.096396828507201)\n",
      "(4.8965607533590347, 5.0531515053283762)\n",
      "(5.7656077232617617, 7.8861807886334754)\n"
     ]
    },
    {
     "data": {
      "image/png": "[encoded data removed]",
      "text/plain": [
       "<matplotlib.figure.Figure at 0x10c6e74a8>"
      ]
     },
     "metadata": {},
     "output_type": "display_data"
    }
   ],
   "source": [
    "n = 10  # number of intervals\n",
    "intervals = rand_intervals(n)\n",
    "\n",
    "print('Intervals:')\n",
    "for i in intervals:\n",
    "    print(i)\n",
    "\n",
    "greedy_s = greedy_interval_schedule(intervals)\n",
    "print('Greedy Scheduled:')\n",
    "for i in greedy_s:\n",
    "    print(i)\n",
    "\n",
    "print('DP Scheduled:')\n",
    "g = interval_graph(intervals)\n",
    "draw_with_weights(g, scale=0.5)\n",
    "\n",
    "dist, dp_s = longest_path(g)\n",
    "\n",
    "del dp_s[0]  # remove 's'\n",
    "del dp_s[-1]  # remove 't'\n",
    "\n",
    "for i in dp_s:\n",
    "    print(intervals[i])"
   ]
  }
 ],
 "metadata": {
  "kernelspec": {
   "display_name": "Python 3",
   "language": "python",
   "name": "python3"
  },
  "language_info": {
   "codemirror_mode": {
    "name": "ipython",
    "version": 3
   },
   "file_extension": ".py",
   "mimetype": "text/x-python",
   "name": "python",
   "nbconvert_exporter": "python",
   "pygments_lexer": "ipython3",
   "version": "3.6.1"
  }
 },
 "nbformat": 4,
 "nbformat_minor": 2
}
